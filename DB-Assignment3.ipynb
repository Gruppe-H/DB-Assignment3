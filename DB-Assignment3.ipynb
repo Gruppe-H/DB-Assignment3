{
 "cells": [
  {
   "cell_type": "code",
   "execution_count": 3,
   "id": "b416564c-b6f0-4a5a-a01c-b2467fb9521c",
   "metadata": {},
   "outputs": [
    {
     "name": "stdout",
     "output_type": "stream",
     "text": [
      "Collecting neo4j\n",
      "  Downloading neo4j-5.20.0.tar.gz (202 kB)\n",
      "\u001b[2K     \u001b[90m━━━━━━━━━━━━━━━━━━━━━━━━━━━━━━━━━━━━━━━\u001b[0m \u001b[32m203.0/203.0 kB\u001b[0m \u001b[31m2.3 MB/s\u001b[0m eta \u001b[36m0:00:00\u001b[0ma \u001b[36m0:00:01\u001b[0m\n",
      "\u001b[?25h  Installing build dependencies ... \u001b[?25ldone\n",
      "\u001b[?25h  Getting requirements to build wheel ... \u001b[?25ldone\n",
      "\u001b[?25h  Installing backend dependencies ... \u001b[?25ldone\n",
      "\u001b[?25h  Preparing metadata (pyproject.toml) ... \u001b[?25ldone\n",
      "\u001b[?25hRequirement already satisfied: pytz in /Library/Frameworks/Python.framework/Versions/3.12/lib/python3.12/site-packages (from neo4j) (2023.4)\n",
      "Building wheels for collected packages: neo4j\n",
      "  Building wheel for neo4j (pyproject.toml) ... \u001b[?25ldone\n",
      "\u001b[?25h  Created wheel for neo4j: filename=neo4j-5.20.0-py3-none-any.whl size=280771 sha256=5070ef2892aacc700d3b7bc21acef0e59008ddb2dcd44a8f22b2fadc638a65d0\n",
      "  Stored in directory: /Users/mariamcnally/Library/Caches/pip/wheels/d6/1d/48/3e3738e5da9e07926dbcb7f6488ff7cb463156ade0c9f60cc5\n",
      "Successfully built neo4j\n",
      "Installing collected packages: neo4j\n",
      "Successfully installed neo4j-5.20.0\n"
     ]
    }
   ],
   "source": [
    "#!pip install -U neo4j \n",
    "!pip install neo4j"
   ]
  },
  {
   "cell_type": "code",
   "execution_count": 5,
   "id": "248b1e3a-0a3b-402d-b100-a19f012f34a4",
   "metadata": {},
   "outputs": [
    {
     "name": "stdout",
     "output_type": "stream",
     "text": [
      "Processing /Users/mariamcnally/Downloads/neo4j-5.20.0.tar\n",
      "  Installing build dependencies ... \u001b[?25ldone\n",
      "\u001b[?25h  Getting requirements to build wheel ... \u001b[?25ldone\n",
      "\u001b[?25h  Installing backend dependencies ... \u001b[?25ldone\n",
      "\u001b[?25h  Preparing metadata (pyproject.toml) ... \u001b[?25ldone\n",
      "\u001b[?25hRequirement already satisfied: pytz in /Library/Frameworks/Python.framework/Versions/3.12/lib/python3.12/site-packages (from neo4j==5.20.0) (2023.4)\n",
      "Building wheels for collected packages: neo4j\n",
      "  Building wheel for neo4j (pyproject.toml) ... \u001b[?25ldone\n",
      "\u001b[?25h  Created wheel for neo4j: filename=neo4j-5.20.0-py3-none-any.whl size=280771 sha256=d893c2ffda411002f6b7c3f9d44b4e958a645599901f4548cb3a3e8119744619\n",
      "  Stored in directory: /Users/mariamcnally/Library/Caches/pip/wheels/ed/58/7f/0e263b8192fb836a8b290398eab0e9561a9f1bd70c8c719063\n",
      "Successfully built neo4j\n",
      "Installing collected packages: neo4j\n",
      "  Attempting uninstall: neo4j\n",
      "    Found existing installation: neo4j 5.20.0\n",
      "    Uninstalling neo4j-5.20.0:\n",
      "      Successfully uninstalled neo4j-5.20.0\n",
      "Successfully installed neo4j-5.20.0\n"
     ]
    }
   ],
   "source": [
    "!pip install \"/Users/mariamcnally/Downloads/neo4j-5.20.0.tar\""
   ]
  },
  {
   "cell_type": "code",
   "execution_count": 8,
   "id": "8676fcc3-edee-4f67-834f-a5107b4e142a",
   "metadata": {},
   "outputs": [],
   "source": [
    "from neo4j import GraphDatabase, RoutingControl, basic_auth"
   ]
  },
  {
   "cell_type": "code",
   "execution_count": 2,
   "id": "bb95d259-8737-481d-b711-7d4a392d2cd7",
   "metadata": {},
   "outputs": [],
   "source": [
    "import pandas as pd\n",
    "import numpy as np"
   ]
  },
  {
   "cell_type": "markdown",
   "id": "66d1323c-13c0-4a28-81d4-693840de2d38",
   "metadata": {},
   "source": [
    "## Data Clean"
   ]
  },
  {
   "cell_type": "code",
   "execution_count": 3,
   "id": "d59ac750-5baf-4cc1-ace4-6b1016df17cf",
   "metadata": {},
   "outputs": [],
   "source": [
    "df1 = pd.read_csv('Materials/2016_-_Cities_Emissions_Reduction_Targets_20240207.csv')\n",
    "df2 = pd.read_csv('Materials/2016_-_Citywide_GHG_Emissions_20240207.csv')\n",
    "df3 = pd.read_csv('Materials/2017_-_Cities_Community_Wide_Emissions.csv')\n",
    "df4 = pd.read_csv('Materials/2017_-_Cities_Emissions_Reduction_Targets_20240207.csv')\n",
    "df5 = pd.read_csv('Materials/2023_Cities_Climate_Risk_and_Vulnerability_Assessments_20240207.csv')\n",
    "\n",
    "dataframes = [df1, df2, df3, df4, df5]"
   ]
  },
  {
   "cell_type": "code",
   "execution_count": 4,
   "id": "987936b1-4735-4e4c-b1d2-0308910ff64b",
   "metadata": {},
   "outputs": [],
   "source": [
    "ac = 'Organisation Number'\n",
    "ci = 'City'\n",
    "org = 'Organisation'\n",
    "co = 'Country'\n",
    "c40 = 'C40 City'\n",
    "em = 'Total emissions (metric tonnes CO2e)'\n",
    "pop = 'City Population'\n",
    "year = 'Reporting Year'\n",
    "\n",
    "for df in dataframes:\n",
    "    df.rename(columns={'Account No': ac, 'Organization Number': ac, 'Account number': ac,\n",
    "                       'Organization Name': org, 'Organization': org,\n",
    "                       'Country/Area': co,\n",
    "                       'City Short Name': ci,\n",
    "                       'Baseline emissions (metric tonnes CO2e)': em, 'Total City-wide Emissions (metric tonnes CO2e)': em,\n",
    "                       'Population': pop, 'Current Population': pop,\n",
    "                       'Reporting year': year,\n",
    "                       'C40': c40}, inplace=True)"
   ]
  },
  {
   "cell_type": "code",
   "execution_count": 5,
   "id": "8836ceed-f914-4525-bcba-eda0bd0c1c32",
   "metadata": {},
   "outputs": [],
   "source": [
    "c40_to_bool = lambda x: False if pd.isnull(x) else (True if x == 'C40' else x)\n",
    "for df in dataframes:\n",
    "    df['C40 City'] = df['C40 City'].apply(c40_to_bool)"
   ]
  },
  {
   "cell_type": "code",
   "execution_count": null,
   "id": "1baf6c5f-d423-406f-a16c-dc5dc448a2e4",
   "metadata": {},
   "outputs": [],
   "source": []
  },
  {
   "cell_type": "markdown",
   "id": "54da7eb3-8519-4d26-a17f-aaaf69a2ef81",
   "metadata": {},
   "source": [
    "## Setup connection"
   ]
  },
  {
   "cell_type": "markdown",
   "id": "009bd1a2-8e8e-41d0-9343-4cda4d5c559d",
   "metadata": {},
   "source": [
    "# DB URI and authentication\n",
    "URI = \"bolt://localhost:7687\"\n",
    "AUTH = (\"neo4j\",\"12345678\")"
   ]
  }
 ],
 "metadata": {
  "kernelspec": {
   "display_name": "Python 3 (ipykernel)",
   "language": "python",
   "name": "python3"
  },
  "language_info": {
   "codemirror_mode": {
    "name": "ipython",
    "version": 3
   },
   "file_extension": ".py",
   "mimetype": "text/x-python",
   "name": "python",
   "nbconvert_exporter": "python",
   "pygments_lexer": "ipython3",
   "version": "3.12.3"
  }
 },
 "nbformat": 4,
 "nbformat_minor": 5
}
